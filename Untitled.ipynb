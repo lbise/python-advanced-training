{
 "cells": [
  {
   "cell_type": "code",
   "execution_count": 2,
   "id": "8b07fd5f-9c57-4abe-bc07-4bc6f5d9bdb6",
   "metadata": {},
   "outputs": [],
   "source": [
    "import numpy, math"
   ]
  },
  {
   "cell_type": "code",
   "execution_count": 3,
   "id": "350dfed7-bf44-432c-93c1-644a4540d436",
   "metadata": {},
   "outputs": [
    {
     "data": {
      "text/plain": [
       "5.0"
      ]
     },
     "execution_count": 3,
     "metadata": {},
     "output_type": "execute_result"
    }
   ],
   "source": [
    "numpy.sqrt(25)\n"
   ]
  },
  {
   "cell_type": "code",
   "execution_count": null,
   "id": "3132c380-3eb2-44d7-bf3b-0444892aa2c2",
   "metadata": {},
   "outputs": [],
   "source": []
  },
  {
   "cell_type": "code",
   "execution_count": 4,
   "id": "b54fba3a-4a21-4f7f-8fd1-b57fe8bfe506",
   "metadata": {},
   "outputs": [],
   "source": [
    "from collections import namedtuple"
   ]
  },
  {
   "cell_type": "code",
   "execution_count": 5,
   "id": "4e0104b2-457b-4b3b-949f-a066a55ec3a5",
   "metadata": {},
   "outputs": [],
   "source": [
    "HighScores = namedtuple(\"HighScores\", (\"name\", \"gender\", \"score\"))"
   ]
  },
  {
   "cell_type": "code",
   "execution_count": 6,
   "id": "d9f4dd34-38fd-484e-a612-dc29cd9d8a2e",
   "metadata": {},
   "outputs": [
    {
     "name": "stdout",
     "output_type": "stream",
     "text": [
      "113 µs ± 40.9 µs per loop (mean ± std. dev. of 7 runs, 10000 loops each)\n"
     ]
    }
   ],
   "source": [
    "%timeit HighScores = namedtuple(\"HighScores\", (\"name\", \"gender\", \"score\"))"
   ]
  },
  {
   "cell_type": "code",
   "execution_count": 8,
   "id": "77487ebf-78b0-4767-9135-74e1fbacfe5d",
   "metadata": {},
   "outputs": [
    {
     "name": "stdout",
     "output_type": "stream",
     "text": [
      "145 ns ± 25.2 ns per loop (mean ± std. dev. of 7 runs, 10000000 loops each)\n"
     ]
    }
   ],
   "source": [
    "%timeit {\"name\" : \"Tiffany\", \"gender\": \"f\" , \"score\" : 900}"
   ]
  },
  {
   "cell_type": "code",
   "execution_count": 9,
   "id": "7ba7bfbd-cb71-46a2-8c87-927c3b14405f",
   "metadata": {},
   "outputs": [],
   "source": [
    "namedtupleHS = namedtuple(\"HighScores\", (\"name\", \"gender\", \"score\"))"
   ]
  },
  {
   "cell_type": "code",
   "execution_count": 10,
   "id": "4c3c9916-1b90-4eb7-8aaa-680cc828d7e0",
   "metadata": {},
   "outputs": [],
   "source": [
    "dictHS = {\"name\" : \"Tiffany\", \"gender\": \"f\" , \"score\" : 900}"
   ]
  },
  {
   "cell_type": "code",
   "execution_count": 11,
   "id": "93305104-aa70-4e16-9001-3dadac9a2ae7",
   "metadata": {},
   "outputs": [
    {
     "name": "stdout",
     "output_type": "stream",
     "text": [
      "53 ns ± 1.64 ns per loop (mean ± std. dev. of 7 runs, 10000000 loops each)\n"
     ]
    }
   ],
   "source": [
    "%timeit namedtupleHS.gender"
   ]
  },
  {
   "cell_type": "code",
   "execution_count": 13,
   "id": "19c62dbd-1018-418a-8e95-57b23c88d280",
   "metadata": {},
   "outputs": [
    {
     "name": "stdout",
     "output_type": "stream",
     "text": [
      "61.6 ns ± 11.7 ns per loop (mean ± std. dev. of 7 runs, 10000000 loops each)\n"
     ]
    }
   ],
   "source": [
    "%timeit dictHS[\"gender\"]"
   ]
  },
  {
   "cell_type": "code",
   "execution_count": null,
   "id": "5dbb21d1-a4cb-4479-8a83-8c28227f3278",
   "metadata": {},
   "outputs": [],
   "source": []
  }
 ],
 "metadata": {
  "kernelspec": {
   "display_name": "Python 3 (ipykernel)",
   "language": "python",
   "name": "python3"
  },
  "language_info": {
   "codemirror_mode": {
    "name": "ipython",
    "version": 3
   },
   "file_extension": ".py",
   "mimetype": "text/x-python",
   "name": "python",
   "nbconvert_exporter": "python",
   "pygments_lexer": "ipython3",
   "version": "3.8.10"
  }
 },
 "nbformat": 4,
 "nbformat_minor": 5
}
