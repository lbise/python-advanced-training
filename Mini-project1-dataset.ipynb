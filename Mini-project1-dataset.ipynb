{
 "cells": [
  {
   "cell_type": "markdown",
   "metadata": {},
   "source": [
    "# Mini-project 1: WARMUP - A dataset with CSV and JSON"
   ]
  },
  {
   "cell_type": "markdown",
   "metadata": {},
   "source": [
    "In this mini-project, we will generate a fake dataset to warmup with dictionaries, functional programming, and the following libraries: `csv`, `json`, `itertools`, `numpy` and `matplotlib`."
   ]
  },
  {
   "cell_type": "markdown",
   "metadata": {},
   "source": [
    "## 1. Generate composed names\n",
    "### 1.1. Define the generation function\n",
    "\n",
    "Write a custom function that returns a list of permutations to create fake composed names separated by a dash, e.g. `Alice-Maria`. \n",
    "\n",
    "Be careful:\n",
    "* The function has 1 input parameter: a list of first names ; and returns the list of permutations with a \"-\" in-between\n",
    "* The output list must also include the opposite, e.g. `Alice-Maria` and also `Maria-Alice`\n",
    "* The output list must not contain repetitions, e.g. `Bob-Bob` (this is a permutation, not a product)\n",
    "\n",
    "Although Python has tools to do this in some modules, it is a good exercise to start from an exmpty list and fill it progressively with functions we know."
   ]
  },
  {
   "cell_type": "code",
   "execution_count": 22,
   "metadata": {},
   "outputs": [],
   "source": [
    "def genFunc(name_list):\n",
    "    permutations = []\n",
    "    for name1 in name_list:\n",
    "        for name2 in name_list:\n",
    "            # Skip repetitions of the same name\n",
    "            if name1 == name2:\n",
    "                continue\n",
    "                \n",
    "            new_name = name1 + '-' + name2\n",
    "            if not new_name in permutations:\n",
    "                permutations.append(new_name)\n",
    "    \n",
    "    return permutations"
   ]
  },
  {
   "cell_type": "code",
   "execution_count": 28,
   "metadata": {},
   "outputs": [],
   "source": [
    "composed_names = genFunc([\"Bob\", \"Alice\", \"Maria\", \"Albert\", \"Paul\", \"Alex\", \"Luc\", \"Robert\", \"Dylan\", \"Léa\", \"Richard\"])"
   ]
  },
  {
   "cell_type": "markdown",
   "metadata": {},
   "source": [
    "### 1.2. Function call and comparison to other functions\n",
    "\n",
    "Here is a list of 11 first names\n",
    "```\n",
    "names = [\"Bob\", \"Alice\", \"Maria\", \"Albert\", \"Paul\", \"Alex\", \"Luc\", \"Robert\", \"Dylan\", \"Léa\", \"Richard\"]\n",
    "```\n",
    "The function call with this list must return exactly 110 composed names (i.e. the exact number of permutations w/o repetition of 11 elements) stored in a variables named `composed_names`.\n"
   ]
  },
  {
   "cell_type": "markdown",
   "metadata": {},
   "source": [
    "Use the magic `%timeit` to compare the speed of execution of your custom function with [`itertools.permutations`](https://docs.python.org/3/library/itertools.html). Compare:\n",
    "- The average duration of the only call to `itertools.permutations` \n",
    "- The average duration of the call to `itertools.permutations` converted in list\n",
    "- The average duration of the list-comprehension of the actual composed names separated by a dash\n",
    "- The average duration of your custom function"
   ]
  },
  {
   "cell_type": "code",
   "execution_count": 12,
   "metadata": {},
   "outputs": [],
   "source": [
    "names = [\"Bob\", \"Alice\", \"Maria\", \"Albert\", \"Paul\", \"Alex\", \"Luc\", \"Robert\", \"Dylan\", \"Léa\", \"Richard\"]"
   ]
  },
  {
   "cell_type": "code",
   "execution_count": null,
   "metadata": {},
   "outputs": [],
   "source": []
  },
  {
   "cell_type": "code",
   "execution_count": 1,
   "metadata": {},
   "outputs": [],
   "source": [
    "from itertools import permutations"
   ]
  },
  {
   "cell_type": "code",
   "execution_count": 15,
   "metadata": {},
   "outputs": [
    {
     "name": "stdout",
     "output_type": "stream",
     "text": [
      "['Bob-Alice', 'Bob-Maria', 'Bob-Albert', 'Bob-Paul', 'Bob-Alex', 'Bob-Luc', 'Bob-Robert', 'Bob-Dylan', 'Bob-Léa', 'Bob-Richard', 'Alice-Bob', 'Alice-Maria', 'Alice-Albert', 'Alice-Paul', 'Alice-Alex', 'Alice-Luc', 'Alice-Robert', 'Alice-Dylan', 'Alice-Léa', 'Alice-Richard', 'Maria-Bob', 'Maria-Alice', 'Maria-Albert', 'Maria-Paul', 'Maria-Alex', 'Maria-Luc', 'Maria-Robert', 'Maria-Dylan', 'Maria-Léa', 'Maria-Richard', 'Albert-Bob', 'Albert-Alice', 'Albert-Maria', 'Albert-Paul', 'Albert-Alex', 'Albert-Luc', 'Albert-Robert', 'Albert-Dylan', 'Albert-Léa', 'Albert-Richard', 'Paul-Bob', 'Paul-Alice', 'Paul-Maria', 'Paul-Albert', 'Paul-Alex', 'Paul-Luc', 'Paul-Robert', 'Paul-Dylan', 'Paul-Léa', 'Paul-Richard', 'Alex-Bob', 'Alex-Alice', 'Alex-Maria', 'Alex-Albert', 'Alex-Paul', 'Alex-Luc', 'Alex-Robert', 'Alex-Dylan', 'Alex-Léa', 'Alex-Richard', 'Luc-Bob', 'Luc-Alice', 'Luc-Maria', 'Luc-Albert', 'Luc-Paul', 'Luc-Alex', 'Luc-Robert', 'Luc-Dylan', 'Luc-Léa', 'Luc-Richard', 'Robert-Bob', 'Robert-Alice', 'Robert-Maria', 'Robert-Albert', 'Robert-Paul', 'Robert-Alex', 'Robert-Luc', 'Robert-Dylan', 'Robert-Léa', 'Robert-Richard', 'Dylan-Bob', 'Dylan-Alice', 'Dylan-Maria', 'Dylan-Albert', 'Dylan-Paul', 'Dylan-Alex', 'Dylan-Luc', 'Dylan-Robert', 'Dylan-Léa', 'Dylan-Richard', 'Léa-Bob', 'Léa-Alice', 'Léa-Maria', 'Léa-Albert', 'Léa-Paul', 'Léa-Alex', 'Léa-Luc', 'Léa-Robert', 'Léa-Dylan', 'Léa-Richard', 'Richard-Bob', 'Richard-Alice', 'Richard-Maria', 'Richard-Albert', 'Richard-Paul', 'Richard-Alex', 'Richard-Luc', 'Richard-Robert', 'Richard-Dylan', 'Richard-Léa']\n"
     ]
    }
   ],
   "source": [
    "output=[]\n",
    "for i in list(permutations(names, 2)):\n",
    "    output.append(\"-\".join(i))\n",
    "print(output)"
   ]
  },
  {
   "cell_type": "code",
   "execution_count": 16,
   "metadata": {},
   "outputs": [
    {
     "name": "stdout",
     "output_type": "stream",
     "text": [
      "210 ns ± 24.1 ns per loop (mean ± std. dev. of 7 runs, 10000000 loops each)\n"
     ]
    }
   ],
   "source": [
    "%timeit permutations(names, 2)"
   ]
  },
  {
   "cell_type": "code",
   "execution_count": 17,
   "metadata": {},
   "outputs": [
    {
     "name": "stdout",
     "output_type": "stream",
     "text": [
      "6.03 µs ± 726 ns per loop (mean ± std. dev. of 7 runs, 100000 loops each)\n"
     ]
    }
   ],
   "source": [
    "%timeit list(permutations(names, 2))"
   ]
  },
  {
   "cell_type": "code",
   "execution_count": 70,
   "metadata": {},
   "outputs": [
    {
     "name": "stdout",
     "output_type": "stream",
     "text": [
      "19.5 µs ± 3.27 µs per loop (mean ± std. dev. of 7 runs, 100000 loops each)\n"
     ]
    }
   ],
   "source": [
    "%timeit [\"-\".join(n) for n in permutations(names, 2)]"
   ]
  },
  {
   "cell_type": "code",
   "execution_count": 24,
   "metadata": {},
   "outputs": [
    {
     "name": "stdout",
     "output_type": "stream",
     "text": [
      "114 µs ± 2.92 µs per loop (mean ± std. dev. of 7 runs, 10000 loops each)\n"
     ]
    }
   ],
   "source": [
    "%timeit genFunc(names)"
   ]
  },
  {
   "cell_type": "markdown",
   "metadata": {},
   "source": [
    "# 2. Generate characters as first + last names\n",
    "## 2.1. Define the generation function\n",
    "\n",
    "Write a custom function that returns a list of combinations of composed names and last names separated by a space, e.g. `Paul-Robert Loiseau`.\n",
    "\n",
    "Be careful:\n",
    "* The function has 2 input parameters: a list of composed first names and a list of last names ; and returns a list of combinations\n",
    "* It means that for each last name, we will insert in the resulting list as many characters as there are names in the list of first names\n",
    "* Your list must be in this order: **first name and then last name**, thus it must not contain `Tournesol Paul-Alex` for instance.\n"
   ]
  },
  {
   "cell_type": "code",
   "execution_count": 30,
   "metadata": {},
   "outputs": [],
   "source": [
    "def get_permutations(composed_names, last_names):\n",
    "    combinations = []\n",
    "    for lname in last_names:\n",
    "        for name in composed_names:\n",
    "            combinations.append(\" \".join((name, lname)))\n",
    "    \n",
    "    return combinations"
   ]
  },
  {
   "cell_type": "code",
   "execution_count": 33,
   "metadata": {},
   "outputs": [
    {
     "name": "stdout",
     "output_type": "stream",
     "text": [
      "1100\n"
     ]
    }
   ],
   "source": [
    "surnames = [\"Dupont\", \"Dupond\", \"Haddock\", \"Tournesol\", \"Castafiore\", \"Lampion\", \"Lopez\", \"Loiseau\", \"Müller\", \"Sanzot\"]\n",
    "characters = get_permutations(composed_names, surnames)\n",
    "print(len(characters))"
   ]
  },
  {
   "cell_type": "markdown",
   "metadata": {},
   "source": [
    "### 2.2. Function call\n",
    "\n",
    "Here is a list of 11 last names (from the stories of Tintin):\n",
    "```\n",
    "surnames = [\"Dupont\", \"Dupond\", \"Haddock\", \"Tournesol\", \"Castafiore\", \"Lampion\", \"Lopez\", \"Loiseau\", \"Müller\", \"Sanzot\"]\n",
    "```\n",
    "\n",
    "The function calls of the function from `3.1.2.` and this one must finally return exactly 1100 characters, stored in a variable named `characters`."
   ]
  },
  {
   "cell_type": "markdown",
   "metadata": {},
   "source": [
    "Use the magic `%timeit` to compare the speed of execution of your custom function with [`itertools.product`](https://docs.python.org/3/library/itertools.html). Compare:\n",
    "- The average duration of the only call to `itertools.product` \n",
    "- The average duration of the call to `itertools.product` converted in list\n",
    "- The average duration of the list-comprehension of the actual composed names separated by a dash\n",
    "- The average duration of your custom function"
   ]
  },
  {
   "cell_type": "code",
   "execution_count": 35,
   "metadata": {},
   "outputs": [],
   "source": [
    "from itertools import product"
   ]
  },
  {
   "cell_type": "code",
   "execution_count": 39,
   "metadata": {},
   "outputs": [
    {
     "name": "stdout",
     "output_type": "stream",
     "text": [
      "412 ns ± 12.7 ns per loop (mean ± std. dev. of 7 runs, 1000000 loops each)\n"
     ]
    }
   ],
   "source": [
    "%timeit product(composed_names, surnames)"
   ]
  },
  {
   "cell_type": "code",
   "execution_count": 40,
   "metadata": {},
   "outputs": [
    {
     "name": "stdout",
     "output_type": "stream",
     "text": [
      "29.9 µs ± 657 ns per loop (mean ± std. dev. of 7 runs, 10000 loops each)\n"
     ]
    }
   ],
   "source": [
    "%timeit list(product(composed_names, surnames))"
   ]
  },
  {
   "cell_type": "code",
   "execution_count": 69,
   "metadata": {},
   "outputs": [
    {
     "name": "stdout",
     "output_type": "stream",
     "text": [
      "164 µs ± 2.3 µs per loop (mean ± std. dev. of 7 runs, 10000 loops each)\n"
     ]
    }
   ],
   "source": [
    "%timeit [\" \".join(name) for name in product(composed_names, surnames)]"
   ]
  },
  {
   "cell_type": "code",
   "execution_count": 72,
   "metadata": {},
   "outputs": [
    {
     "name": "stdout",
     "output_type": "stream",
     "text": [
      "214 µs ± 4.92 µs per loop (mean ± std. dev. of 7 runs, 1000 loops each)\n"
     ]
    }
   ],
   "source": [
    "%timeit [name[0] + \" \" + name[1] for name in product(composed_names, surnames)]"
   ]
  },
  {
   "cell_type": "code",
   "execution_count": 44,
   "metadata": {},
   "outputs": [
    {
     "name": "stdout",
     "output_type": "stream",
     "text": [
      "180 µs ± 8 µs per loop (mean ± std. dev. of 7 runs, 10000 loops each)\n"
     ]
    }
   ],
   "source": [
    "%timeit get_permutations(composed_names, surnames)"
   ]
  },
  {
   "cell_type": "markdown",
   "metadata": {},
   "source": [
    "# 3. Import data from a CSV file\n",
    "\n",
    "We will associate to these characters exam marks generated by another program in a CSV file.\n",
    "Use the documentation of the [`csv`](https://docs.python.org/3/library/csv.html) module for the next questions:"
   ]
  },
  {
   "cell_type": "markdown",
   "metadata": {},
   "source": [
    "## 3.1. Load the file\n",
    "\n",
    "Manually download the file [`exams.csv`](https://raw.githubusercontent.com/ymollard/python-advanced-slides/main/exercises/data/exams.csv?token=AAZEO6XULYU2ZIIZJLGSD4DBVANQC). With Python, open it, load its content, and transform-it in order to get marks by discipline, for instance `math_marks = [15, 13...]`"
   ]
  },
  {
   "cell_type": "code",
   "execution_count": 71,
   "metadata": {},
   "outputs": [
    {
     "name": "stdout",
     "output_type": "stream",
     "text": [
      "french mean=10.308181818181819 std=3.4537234667998487\n",
      "maths mean=11.959545454545454 std=4.760581493580883\n",
      "philo mean=8.563181818181818 std=4.495033508180937\n"
     ]
    }
   ],
   "source": [
    "import csv\n",
    "import numpy\n",
    "with open('exams.csv') as f:\n",
    "    spamreader = csv.DictReader(f)\n",
    "    french_marks = []\n",
    "    maths_marks = []\n",
    "    philosophy_marks = []    \n",
    "    for row in spamreader:\n",
    "        #print(row)\n",
    "        french_marks.append(float(row['french']))\n",
    "        maths_marks.append(float(row['maths']))\n",
    "        philosophy_marks.append(float(row['philosophy']))        \n",
    "    \n",
    "    d = { 'french' : french_marks, 'maths' : maths_marks, 'philo' : philosophy_marks }\n",
    "    for k in d:\n",
    "        print('{} mean={} std={}'.format(k, numpy.mean(d[k]), numpy.std(d[k])))"
   ]
  },
  {
   "cell_type": "markdown",
   "metadata": {},
   "source": [
    "Install the numerical module `numpy` with pip in your venv (in the PyCharm system terminal).\n",
    "\n",
    "Use functions `numpy.mean()` et `numy.std()` to get the mean and the standard deviation of marks by discipline"
   ]
  },
  {
   "cell_type": "markdown",
   "metadata": {},
   "source": [
    "## 3.2. Plot the density of marks\n",
    "\n",
    "A density plot shows, for each of the 40 possible notes in the horizontal axis (from 0 to 20 with a 0.5 step), the number of occurences of this mark, on the vertical axis. This is a way to check how data are distributed. We could build this plot by hand but popular Python libraries do it for us. \n",
    "\n",
    "Install the statistical module `pandas`, the plot module `matplotlib` and the scientific module `scipy` with pip in your venv (in the PyCharm system terminal)."
   ]
  },
  {
   "cell_type": "markdown",
   "metadata": {},
   "source": [
    "Use [pandas.DataFrame.plot.density](https://pandas.pydata.org/pandas-docs/stable/reference/api/pandas.DataFrame.plot.density.html) to plot the density of marks."
   ]
  },
  {
   "cell_type": "code",
   "execution_count": 78,
   "metadata": {},
   "outputs": [
    {
     "data": {
      "image/png": "[encoded data removed]",
      "text/plain": [
       "<Figure size 432x288 with 1 Axes>"
      ]
     },
     "metadata": {
      "needs_background": "light"
     },
     "output_type": "display_data"
    }
   ],
   "source": [
    "import pandas as pd\n",
    "for k in d:\n",
    "    s = pd.Series(d[k])\n",
    "    ax = s.plot.kde().set_xlim(0,20)"
   ]
  },
  {
   "cell_type": "code",
   "execution_count": 81,
   "metadata": {},
   "outputs": [
    {
     "data": {
      "image/png": "[encoded data removed]",
      "text/plain": [
       "<Figure size 432x288 with 1 Axes>"
      ]
     },
     "metadata": {
      "needs_background": "light"
     },
     "output_type": "display_data"
    }
   ],
   "source": [
    "import pandas as pd\n",
    "df = pd.DataFrame(french_marks).plot.density()"
   ]
  },
  {
   "cell_type": "markdown",
   "metadata": {},
   "source": [
    "## 3. Create an adapter data structure\n",
    "Transform the data you read in a data structure made of nested dictionaries and/or lists.\n",
    "\n",
    "The structure must represtent the name of students as well as their marks to the 3 exams\n",
    "\n",
    "For instance:\n",
    "```\n",
    "{\n",
    "  \"Alice-Maria Lampion\" : {\"math\": 15, \"french\": 10, \"philosophy\": 11.5},\n",
    "  \"Paul-Alex Loiseau\" : {\"math\": 8.5, \"french\": 17, \"philosophy\": 15},\n",
    "  ...\n",
    "}\n",
    "```\n"
   ]
  },
  {
   "cell_type": "code",
   "execution_count": 86,
   "metadata": {},
   "outputs": [],
   "source": [
    "dataset = {}\n",
    "for i, c in enumerate(characters):\n",
    "    #dataset[c] = {'math': maths_marks[i], 'french' : french_marks[i], 'philosophy' : philosophy_marks[i]}\n",
    "    dataset[c] = dict(zip(['math', 'french', 'philosophy'], [maths_marks[i], french_marks[i], philosophy_marks[i]]))"
   ]
  },
  {
   "cell_type": "code",
   "execution_count": 87,
   "metadata": {},
   "outputs": [],
   "source": [
    "import json\n",
    "with open('dataset.json', 'w') as f:\n",
    "    json.dump(dataset, f)"
   ]
  },
  {
   "cell_type": "markdown",
   "metadata": {},
   "source": [
    "## 3.1. Save you data structure in JSON\n",
    "\n",
    "Import module `json` and use `json.dump()` to save your database un a file: `dataset.json`\n",
    "\n",
    "Protip: add the paramter `indent=4` in order to make your JSON file readable by a human with a simple text editor. Open the file without Python to observer."
   ]
  },
  {
   "cell_type": "code",
   "execution_count": null,
   "metadata": {},
   "outputs": [],
   "source": [
    "# My code saving the data structure in JSON here []"
   ]
  },
  {
   "cell_type": "markdown",
   "metadata": {},
   "source": [
    "## 3.2. Read and check\n",
    "\n",
    "We are now going to check that we can load properly the JSON file with `json.load()`.\n",
    "\n",
    "We will first crash voluntarily this Jupyter Notebook in order to start from scratch. Your code will remain in your browser but all variables will be lost."
   ]
  },
  {
   "cell_type": "code",
   "execution_count": null,
   "metadata": {},
   "outputs": [],
   "source": [
    "# We volontarily end the interpreter here to make sure all previous variables are cleared up.\n",
    "import os\n",
    "os._exit(0)"
   ]
  },
  {
   "cell_type": "markdown",
   "metadata": {},
   "source": [
    "Now re-loard the JSON file into a Pytohn variable and consult the math mark of Paul-Robert Müller :"
   ]
  },
  {
   "cell_type": "code",
   "execution_count": null,
   "metadata": {},
   "outputs": [],
   "source": [
    "# My code loading the saved JSON dataset here [...]"
   ]
  },
  {
   "cell_type": "markdown",
   "metadata": {},
   "source": [
    "## 3.3. Optional: adapt to malformed data"
   ]
  },
  {
   "cell_type": "markdown",
   "metadata": {},
   "source": [
    "You crated a JSON file but some file already existed in the current directory. However this second file has many problems.\n",
    "\n",
    "**Your goal**: Write a Python function that:\n",
    "* opens all files from the current directory\n",
    "* check if this is actually a file (not a directory)\n",
    "* check if this is a JSON file (e.g. ends with `.json`)\n",
    "* load the data and adapt to malformed data\n",
    "* compute the mean in mathematics of all students in that directory\n",
    "\n",
    "Use the module [`pathlib`](https://docs.python.org/fr/3/library/pathlib.html) to handle file paths, existence and type. Take note that `os.path` is now deprecated."
   ]
  },
  {
   "cell_type": "code",
   "execution_count": null,
   "metadata": {},
   "outputs": [],
   "source": [
    "# My optional code loading malformed JSON files here [...]"
   ]
  },
  {
   "cell_type": "markdown",
   "metadata": {},
   "source": [
    "# Resources\n",
    "\n",
    "* itertools: https://docs.python.org/3/library/itertools.html\n",
    "* Functional programming: https://docs.python.org/3/howto/functional.html\n",
    "* csv: https://docs.python.org/3/library/csv.html\n",
    "* json: https://docs.python.org/fr/3/library/json.html\n",
    "* pandas: https://pandas.pydata.org/pandas-docs/stable/\n",
    "\n"
   ]
  },
  {
   "cell_type": "code",
   "execution_count": null,
   "metadata": {},
   "outputs": [],
   "source": []
  }
 ],
 "metadata": {
  "kernelspec": {
   "display_name": "Python 3 (ipykernel)",
   "language": "python",
   "name": "python3"
  },
  "language_info": {
   "codemirror_mode": {
    "name": "ipython",
    "version": 3
   },
   "file_extension": ".py",
   "mimetype": "text/x-python",
   "name": "python",
   "nbconvert_exporter": "python",
   "pygments_lexer": "ipython3",
   "version": "3.8.10"
  }
 },
 "nbformat": 4,
 "nbformat_minor": 4
}
